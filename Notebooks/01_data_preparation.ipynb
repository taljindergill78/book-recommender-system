{
 "cells": [
  {
   "cell_type": "markdown",
   "metadata": {},
   "source": [
    "## Project Step 1: Data Preparation"
   ]
  },
  {
   "cell_type": "code",
   "execution_count": 1,
   "metadata": {},
   "outputs": [],
   "source": [
    "import pandas as pd\n",
    "import numpy as np\n",
    "from sklearn.datasets import dump_svmlight_file\n",
    "from scipy.sparse import coo_matrix\n",
    "import json"
   ]
  },
  {
   "cell_type": "code",
   "execution_count": 2,
   "metadata": {},
   "outputs": [
    {
     "name": "stderr",
     "output_type": "stream",
     "text": [
      "/var/folders/ws/ljq6wzk97031w_5_fkm0k13r0000gn/T/ipykernel_32832/3883621071.py:3: DtypeWarning: Columns (0) have mixed types. Specify dtype option on import or set low_memory=False.\n",
      "  users = pd.read_csv('Users.csv', sep=';', encoding='latin-1', on_bad_lines='skip')\n"
     ]
    }
   ],
   "source": [
    "# Step 1: Load all datasets\n",
    "ratings = pd.read_csv('Ratings.csv', sep=';', encoding='latin-1', on_bad_lines='skip')\n",
    "users = pd.read_csv('Users.csv', sep=';', encoding='latin-1', on_bad_lines='skip')\n",
    "books = pd.read_csv('Books.csv', sep=';', encoding='latin-1', on_bad_lines='skip', quotechar='\"', low_memory=False)\n",
    "\n",
    "# Rename columns\n",
    "ratings.columns = ['UserID', 'ISBN', 'Rating']\n",
    "books.columns = ['ISBN', 'Book-Title', 'Book-Author', 'Year-Of-Publication', 'Publisher']\n",
    "users.columns = ['UserID', 'Age']"
   ]
  },
  {
   "cell_type": "code",
   "execution_count": null,
   "metadata": {},
   "outputs": [
    {
     "name": "stdout",
     "output_type": "stream",
     "text": [
      "Users after cleaning: (168627, 2)\n"
     ]
    }
   ],
   "source": [
    "# Step 2: Clean users data\n",
    "\n",
    "# Drop missing values\n",
    "users = users.dropna(subset=['Age'])\n",
    "\n",
    "print(f\"Users after cleaning: {users.shape}\")"
   ]
  },
  {
   "cell_type": "code",
   "execution_count": null,
   "metadata": {},
   "outputs": [],
   "source": [
    "# Step 3: Clean books data\n",
    "books = books.dropna()"
   ]
  },
  {
   "cell_type": "code",
   "execution_count": 5,
   "metadata": {},
   "outputs": [
    {
     "name": "stdout",
     "output_type": "stream",
     "text": [
      "Final ratings count: 255745\n"
     ]
    }
   ],
   "source": [
    "# Step 4: Clean ratings data\n",
    "ratings = ratings[ratings['Rating'] > 0]\n",
    "ratings = ratings.dropna()\n",
    "\n",
    "# Only keep ratings with valid users and books\n",
    "ratings = ratings[ratings['UserID'].isin(users['UserID'])]\n",
    "ratings = ratings[ratings['ISBN'].isin(books['ISBN'])]\n",
    "\n",
    "print(f\"Final ratings count: {ratings.shape[0]}\")"
   ]
  },
  {
   "cell_type": "code",
   "execution_count": 6,
   "metadata": {},
   "outputs": [],
   "source": [
    "from scipy.sparse import coo_matrix\n",
    "from sklearn.datasets import dump_svmlight_file\n",
    "import numpy as np\n",
    "\n",
    "# Step 5: Create mappings starting from 1\n",
    "user_map = {user_id: idx + 1 for idx, user_id in enumerate(ratings['UserID'].unique())}\n",
    "book_map = {isbn: idx + 1  for idx, isbn in enumerate(ratings['ISBN'].unique())}\n",
    "\n",
    "ratings['user_index'] = ratings['UserID'].map(user_map)\n",
    "ratings['book_index'] = ratings['ISBN'].map(book_map)\n",
    "\n",
    "# Step 6: Build sparse matrix\n",
    "row = ratings['user_index'].values\n",
    "col = ratings['book_index'].values\n",
    "data = ratings['Rating'].values\n",
    "\n",
    "n_users = len(user_map)  # Do NOT add +1 here\n",
    "n_books = len(book_map)  # Do NOT add +1 here\n",
    "\n",
    "sparse_matrix = coo_matrix((data, (row - 1, col - 1)), shape=(n_users, n_books))\n",
    "\n",
    "# Step 7: Save LIBSVM file\n",
    "dummy_target = np.ones(n_users)  # Make sure the shape matches the number of rows\n",
    "dump_svmlight_file(sparse_matrix, dummy_target, 'user_book_ratings.libsvm', zero_based=False)"
   ]
  }
 ],
 "metadata": {
  "kernelspec": {
   "display_name": "ift511",
   "language": "python",
   "name": "python3"
  },
  "language_info": {
   "codemirror_mode": {
    "name": "ipython",
    "version": 3
   },
   "file_extension": ".py",
   "mimetype": "text/x-python",
   "name": "python",
   "nbconvert_exporter": "python",
   "pygments_lexer": "ipython3",
   "version": "3.13.1"
  }
 },
 "nbformat": 4,
 "nbformat_minor": 2
}
