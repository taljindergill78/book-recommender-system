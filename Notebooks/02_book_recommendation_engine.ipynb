{
 "cells": [
  {
   "cell_type": "markdown",
   "id": "0e14bad9",
   "metadata": {},
   "source": [
    "## Project Step 2: Book Recommender System"
   ]
  },
  {
   "cell_type": "code",
   "execution_count": null,
   "id": "99ef111e",
   "metadata": {},
   "outputs": [
    {
     "name": "stdout",
     "output_type": "stream",
     "text": [
      "Computing user similarity matrix...\n"
     ]
    },
    {
     "name": "stderr",
     "output_type": "stream",
     "text": [
      "Generating recommendations: 100%|██████████| 105283/105283 [47:54<00:00, 36.63it/s] \n"
     ]
    },
    {
     "name": "stdout",
     "output_type": "stream",
     "text": [
      "Recommendations saved to Top5_Book_Recommendations.csv\n"
     ]
    }
   ],
   "source": [
    "import pandas as pd\n",
    "import numpy as np\n",
    "from scipy.sparse import csr_matrix\n",
    "from sklearn.metrics.pairwise import cosine_similarity\n",
    "from tqdm import tqdm\n",
    "\n",
    "# Load the datasets\n",
    "ratings = pd.read_csv('Ratings.csv', delimiter=';')\n",
    "books = pd.read_csv('Books.csv', delimiter=';')\n",
    "\n",
    "# Filter out entries with negative ratings\n",
    "ratings = ratings[ratings['Rating'] >= 0].copy()\n",
    "\n",
    "# Map UserID and ISBN to numeric indices\n",
    "ratings['user_idx'] = ratings['User-ID'].astype('category').cat.codes\n",
    "ratings['book_idx'] = ratings['ISBN'].astype('category').cat.codes\n",
    "\n",
    "# Create the user-item interaction matrix\n",
    "user_book_matrix = csr_matrix(\n",
    "    (ratings['Rating'], (ratings['user_idx'], ratings['book_idx']))\n",
    ")\n",
    "\n",
    "# Build lookup dictionaries\n",
    "idx_to_userid = dict(enumerate(ratings['User-ID'].astype('category').cat.categories))\n",
    "idx_to_isbn = dict(enumerate(ratings['ISBN'].astype('category').cat.categories))\n",
    "isbn_to_title = books.set_index('ISBN')['Title'].to_dict()\n",
    "\n",
    "# Compute cosine similarity between users\n",
    "print(\"Computing user similarity matrix...\")\n",
    "user_similarity = cosine_similarity(user_book_matrix, dense_output=False)\n",
    "\n",
    "# Set parameters\n",
    "k_neighbors = 10\n",
    "top_recommendations = 5\n",
    "final_recommendations = []\n",
    "\n",
    "# Generate recommendations\n",
    "for user in tqdm(range(user_book_matrix.shape[0]), desc=\"Generating recommendations\"):\n",
    "    user_vector = user_book_matrix[user]\n",
    "\n",
    "    similarities = user_similarity[user].toarray().flatten()\n",
    "    similarities[user] = 0  # Remove self-similarity\n",
    "\n",
    "    top_users = np.argsort(similarities)[-k_neighbors:]\n",
    "\n",
    "    neighbor_ratings = user_book_matrix[top_users]\n",
    "\n",
    "    read_books = set(user_vector.nonzero()[1])\n",
    "    candidate_books = set(neighbor_ratings.nonzero()[1]) - read_books\n",
    "\n",
    "    book_scores = {}\n",
    "    weights = similarities[top_users]\n",
    "    for book in candidate_books:\n",
    "        ratings = neighbor_ratings[:, book].toarray().flatten()\n",
    "        if np.sum(weights) > 0:\n",
    "            predicted_score = np.dot(weights, ratings) / np.sum(weights)\n",
    "            book_scores[book] = predicted_score\n",
    "\n",
    "    best_books = sorted(book_scores.items(), key=lambda x: x[1], reverse=True)[:top_recommendations]\n",
    "    for book, score in best_books:\n",
    "        isbn = idx_to_isbn[book]\n",
    "        final_recommendations.append({\n",
    "            'User_ID': idx_to_userid[user],\n",
    "            'Book_ID': isbn,\n",
    "            'Book_Title': isbn_to_title.get(isbn, \"Unknown Title\"),\n",
    "            'Recommendation_Score': round(score, 2)\n",
    "        })\n",
    "\n",
    "# Save recommendations to CSV\n",
    "output_path = 'Top5_Book_Recommendations.csv'\n",
    "pd.DataFrame(final_recommendations).to_csv(output_path, index=False)\n",
    "print(f\"Recommendations saved to {output_path}\")"
   ]
  }
 ],
 "metadata": {
  "kernelspec": {
   "display_name": "base",
   "language": "python",
   "name": "python3"
  },
  "language_info": {
   "codemirror_mode": {
    "name": "ipython",
    "version": 3
   },
   "file_extension": ".py",
   "mimetype": "text/x-python",
   "name": "python",
   "nbconvert_exporter": "python",
   "pygments_lexer": "ipython3",
   "version": "3.12.7"
  }
 },
 "nbformat": 4,
 "nbformat_minor": 5
}
